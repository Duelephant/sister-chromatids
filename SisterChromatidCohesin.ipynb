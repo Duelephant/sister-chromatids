{
 "cells": [
  {
   "cell_type": "code",
   "execution_count": 27,
   "metadata": {},
   "outputs": [
    {
     "name": "stdout",
     "output_type": "stream",
     "text": [
      "The Cython extension is already loaded. To reload it, use:\n",
      "  %reload_ext Cython\n"
     ]
    }
   ],
   "source": [
    "%load_ext Cython"
   ]
  },
  {
   "cell_type": "code",
   "execution_count": 28,
   "metadata": {},
   "outputs": [],
   "source": [
    "import numpy as np \n",
    "import  matplotlib.pyplot as plt \n",
    "%matplotlib notebook \n",
    "# last line enables interactive plotting in notebooks "
   ]
  },
  {
   "cell_type": "code",
   "execution_count": 1,
   "metadata": {},
   "outputs": [],
   "source": [
    "#!python\n",
    "\n",
    "# -------- these are not just comments. These are compiler directives. \n",
    "# They make code run a bit faster. You should take them away for debug/development\n",
    "# (if you use wraparound=False you can't use negative number for indexing arrays from the end)\n",
    "#\n",
    "#cython: boundscheck=False\n",
    "#cython: wraparound=False\n",
    "#cython: initializedcheck=True\n",
    "\n",
    "import numpy as np\n",
    "import cython    \n",
    "\n",
    "\n",
    "cohesinAmount = 10\n",
    "rnapAmount = 5\n",
    "baseNumber = 500\n",
    "geneNumber = 10\n",
    "maxLength = 15\n",
    "sisterOne = np.empty(cohesinAmount + rnapAmount, dtype=int)\n",
    "sisterTwo = np.empty(cohesinAmount + rnapAmount, dtype=int)\n",
    "\n",
    "#This function checks if a location on a chromatid is occupied\n",
    "#Takes in a sister chromatid and a location on said chromatid\n",
    "def isOccupied(array, place):\n",
    "    check = 0\n",
    "    while check < array.size:\n",
    "        if place == array[check]:\n",
    "            return bool(True)\n",
    "        else:\n",
    "            check = check + 1\n",
    "    if check == array.size:\n",
    "        return bool(False)\n",
    "\n",
    "#This checks if a stretch of a chromatid is occupied\n",
    "#Takes in chromatid, location, and the length of stretch after said location that needs to be checked\n",
    "def extendedOccupied(array, place, length):\n",
    "    check = 0\n",
    "    while check < length:\n",
    "        if isOccupied(array, place+check):\n",
    "            return bool(True)\n",
    "        else:\n",
    "            check = check + 1\n",
    "    if check == array.size:\n",
    "        return bool(False)\n",
    "    \n",
    "#Generates an array of gene lengths\n",
    "def generateGeneLengths():\n",
    "    gene = 0\n",
    "    geneLengths = np.empty(geneNumber, dtype=int);\n",
    "    while gene < geneNumber:\n",
    "        geneLength = np.random.randint(5, maxLength)   \n",
    "        geneLengths[gene] = geneLength\n",
    "        gene = gene + 1\n",
    "    return geneLengths\n",
    "\n",
    "#Generates an array of the starting points of genes\n",
    "#Takes in the array of gene lengths to make sure the genes don't overlap\n",
    "def generateGenes(array):\n",
    "    gene = 0\n",
    "    geneList = np.empty(geneNumber, dtype=int);\n",
    "    while gene < geneNumber:\n",
    "        geneStart = np.random.randint(0, baseNumber)\n",
    "        if not extendedOccupied(geneList, geneStart, array[gene]):    \n",
    "            geneList[gene] = geneStart\n",
    "            gene = gene + 1\n",
    "    geneList = np.sort(geneList)\n",
    "    return geneList\n",
    "\n",
    "#Generates the starting points of every cohesin on a set chromatid\n",
    "#Takes in a chromatid\n",
    "def generateCohesins(array):\n",
    "    cohesin = 0\n",
    "    while cohesin < cohesinAmount:\n",
    "        place = np.random.randint(0, baseNumber)\n",
    "        if not isOccupied(array, place):\n",
    "            array[rnapAmount+cohesin] = place\n",
    "            cohesin = cohesin + 1\n",
    "    return array\n",
    "\n",
    "#Generates the starting points of every RNAP on a set chromatid\n",
    "#Takes in a chromatid\n",
    "def generateRnaps(array, geneList):\n",
    "    rnap = 0\n",
    "    while rnap < rnapAmount:\n",
    "        gene = np.random.randint(0, 10)\n",
    "        if not isOccupied(array, geneList[gene]):\n",
    "            array[rnap] = geneList[gene]\n",
    "            rnap = rnap + 1\n",
    "    return array\n",
    "    \n",
    "    \n",
    "\n",
    "\n"
   ]
  },
  {
   "cell_type": "code",
   "execution_count": 30,
   "metadata": {},
   "outputs": [
    {
     "name": "stdout",
     "output_type": "stream",
     "text": [
      "[ 5  9  5 13 10 12  8  9  6 13]\n",
      "[114 151 249 261 277 288 320 348 376 487]\n",
      "[114 348 487 151 277  32 426 493 250 320  72 232 442 150 344]\n",
      "[13  9 12  6 14 10  6 14 12 10]\n",
      "[ 22  75 108 124 155 175 204 271 321 349]\n",
      "[321 155  75 271 108  32 426 493 250 320  72 232 442 150 344]\n"
     ]
    }
   ],
   "source": [
    "geneLengths1 = generateGeneLengths()\n",
    "geneList1 = generateGenes(geneLengths1)\n",
    "geneLengths2 = generateGeneLengths()\n",
    "geneList2 = generateGenes(geneLengths2)\n",
    "sisterOne = generateCohesins(sisterOne)\n",
    "sisterTwo = np.copy(sisterOne)\n",
    "sisterOne = generateRnaps(sisterOne, geneList1)\n",
    "sisterTwo = generateRnaps(sisterTwo, geneList2)\n",
    "\n",
    "print(geneLengths1)\n",
    "print(geneList1)\n",
    "print(sisterOne)\n",
    "print(geneLengths2)\n",
    "print(geneList2)\n",
    "print(sisterTwo)\n",
    "\n",
    "\n"
   ]
  },
  {
   "cell_type": "code",
   "execution_count": 31,
   "metadata": {},
   "outputs": [],
   "source": [
    "speedRnap = .75\n",
    "speedCohesin = .4\n",
    "\n",
    "#Every RNAP takes has a certain chance of taking a step forward\n",
    "#Takes in a chromatid\n",
    "def stepRnapPositive(array):\n",
    "    movingRnap = 0\n",
    "    speed = speedRnap\n",
    "    while movingRnap < rnapAmount:\n",
    "        movementCheck = np.random.random()\n",
    "        if movementCheck < speed:\n",
    "            array[movingRnap] = array[movingRnap] + 1\n",
    "            movingRnap = movingRnap + 1\n",
    "        else:\n",
    "            movingRnap = movingRnap + 1\n",
    "    return array\n",
    "\n",
    "#Every RNAP takes has a certain chance of taking a step backwards\n",
    "#Takes in a chromatid\n",
    "def stepRnapNegative(array):\n",
    "    movingRnap = 0\n",
    "    speed = speedRanp\n",
    "    while movingRnap < rnapAmount:\n",
    "        movementCheck = np.random.random()\n",
    "        if movementCheck < speed:\n",
    "            array[movingRnap] = array[movingRnap] - 1\n",
    "            movingRnap = movingRnap + 1\n",
    "        else:\n",
    "            movingRnap = movingRnap + 1\n",
    "    return array\n",
    "\n",
    "#Every cohesin has an equal chance of going forward or backwards\n",
    "#Takes in chromatid\n",
    "def stepCohesin(array):\n",
    "    movingCohesin = 0\n",
    "    speed = speedCohesin\n",
    "    while movingCohesin < cohesinAmount:\n",
    "        movementCheck = np.random.random()\n",
    "        if movementCheck > speed:\n",
    "            movingCohesin = movingCohesin + 1\n",
    "        elif movementCheck > speed/2:\n",
    "            if array[rnapAmount + movingCohesin] < baseNumber:\n",
    "                array[rnapAmount + movingCohesin] = array[rnapAmount + movingCohesin] + 1\n",
    "            movingCohesin = movingCohesin + 1\n",
    "        else:\n",
    "            if array[rnapAmount + movingCohesin] > 0:\n",
    "                array[rnapAmount + movingCohesin] = array[rnapAmount + movingCohesin] - 1\n",
    "            movingCohesin = movingCohesin + 1\n",
    "    return array\n"
   ]
  },
  {
   "cell_type": "code",
   "execution_count": 32,
   "metadata": {},
   "outputs": [
    {
     "name": "stdout",
     "output_type": "stream",
     "text": [
      "[114 348 487 151 277  32 426 493 250 320  72 232 442 150 344]\n",
      "[114 348 488 152 277  32 426 492 250 320  73 232 443 150 344]\n"
     ]
    }
   ],
   "source": [
    "print(sisterOne)\n",
    "sisterOne = stepRnapPositive(sisterOne)\n",
    "sisterOne = stepCohesin(sisterOne)\n",
    "print(sisterOne)"
   ]
  },
  {
   "cell_type": "code",
   "execution_count": null,
   "metadata": {},
   "outputs": [],
   "source": []
  }
 ],
 "metadata": {
  "_draft": {
   "nbviewer_url": "https://gist.github.com/8faf1e6c6ee98bead7ab5f2f8cb70011"
  },
  "gist": {
   "data": {
    "description": "work/hicProjects/sandbox/Untitled.ipynb",
    "public": false
   },
   "id": "8faf1e6c6ee98bead7ab5f2f8cb70011"
  },
  "kernelspec": {
   "display_name": "Python 3",
   "language": "python",
   "name": "python3"
  },
  "language_info": {
   "codemirror_mode": {
    "name": "ipython",
    "version": 3
   },
   "file_extension": ".py",
   "mimetype": "text/x-python",
   "name": "python",
   "nbconvert_exporter": "python",
   "pygments_lexer": "ipython3",
   "version": "3.7.4"
  }
 },
 "nbformat": 4,
 "nbformat_minor": 4
}
